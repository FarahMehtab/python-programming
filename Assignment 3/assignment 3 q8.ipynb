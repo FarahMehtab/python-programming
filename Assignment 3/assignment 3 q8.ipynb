{
 "cells": [
  {
   "cell_type": "code",
   "execution_count": 6,
   "id": "0ed2524f",
   "metadata": {},
   "outputs": [
    {
     "name": "stdout",
     "output_type": "stream",
     "text": [
      "Enter number33\n",
      "the given number is odd\n"
     ]
    }
   ],
   "source": [
    "\"\"\"EVEN OR ODD\"\"\"\n",
    "\n",
    "num = int(input(\"Enter number\"  ))\n",
    "\n",
    "if num%2 == 0:\n",
    " print(\"the given number is even\")\n",
    "\n",
    "else:\n",
    " print(\"the given number is odd\")"
   ]
  },
  {
   "cell_type": "code",
   "execution_count": null,
   "id": "68cad28d",
   "metadata": {},
   "outputs": [],
   "source": []
  },
  {
   "cell_type": "code",
   "execution_count": null,
   "id": "09d96fc7",
   "metadata": {},
   "outputs": [],
   "source": []
  },
  {
   "cell_type": "code",
   "execution_count": null,
   "id": "5b3565a1",
   "metadata": {},
   "outputs": [],
   "source": []
  }
 ],
 "metadata": {
  "kernelspec": {
   "display_name": "Python 3",
   "language": "python",
   "name": "python3"
  },
  "language_info": {
   "codemirror_mode": {
    "name": "ipython",
    "version": 3
   },
   "file_extension": ".py",
   "mimetype": "text/x-python",
   "name": "python",
   "nbconvert_exporter": "python",
   "pygments_lexer": "ipython3",
   "version": "3.8.8"
  }
 },
 "nbformat": 4,
 "nbformat_minor": 5
}
