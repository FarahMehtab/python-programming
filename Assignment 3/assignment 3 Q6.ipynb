{
 "cells": [
  {
   "cell_type": "code",
   "execution_count": 1,
   "id": "a42a0f79",
   "metadata": {},
   "outputs": [
    {
     "name": "stdout",
     "output_type": "stream",
     "text": [
      "Enter first number  12\n"
     ]
    }
   ],
   "source": [
    "'''WRITE A PROGRAM WHICH TAKE 2 INPUTS FROM THE USER AND PRINT THEIR ADDITION'''\n",
    "\n",
    "n_1 = float(input(\"Enter first number  \"))\n"
   ]
  },
  {
   "cell_type": "code",
   "execution_count": 2,
   "id": "9c5740b8",
   "metadata": {},
   "outputs": [
    {
     "name": "stdout",
     "output_type": "stream",
     "text": [
      "Enter second number  13\n"
     ]
    }
   ],
   "source": [
    "\n",
    "n_2 = float(input(\"Enter second number  \"))"
   ]
  },
  {
   "cell_type": "code",
   "execution_count": 5,
   "id": "b8ef4d1c",
   "metadata": {},
   "outputs": [
    {
     "name": "stdout",
     "output_type": "stream",
     "text": [
      "Addition of the above numbers is 25.0\n"
     ]
    }
   ],
   "source": [
    "print(\"Addition of the above numbers is \" +str(n_1+n_2))"
   ]
  },
  {
   "cell_type": "code",
   "execution_count": null,
   "id": "2c560bf3",
   "metadata": {},
   "outputs": [],
   "source": []
  }
 ],
 "metadata": {
  "kernelspec": {
   "display_name": "Python 3",
   "language": "python",
   "name": "python3"
  },
  "language_info": {
   "codemirror_mode": {
    "name": "ipython",
    "version": 3
   },
   "file_extension": ".py",
   "mimetype": "text/x-python",
   "name": "python",
   "nbconvert_exporter": "python",
   "pygments_lexer": "ipython3",
   "version": "3.8.8"
  }
 },
 "nbformat": 4,
 "nbformat_minor": 5
}
