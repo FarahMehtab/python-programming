{
 "cells": [
  {
   "cell_type": "code",
   "execution_count": 1,
   "id": "7a72fbe8",
   "metadata": {},
   "outputs": [
    {
     "name": "stdout",
     "output_type": "stream",
     "text": [
      "56\n",
      "98\n",
      "78\n",
      "65\n"
     ]
    }
   ],
   "source": [
    "\"\"\"LARGEST NUMBER IN A NUMERIC LIST\"\"\"\n",
    "\n",
    "numeric_list = [56,98,78,65]\n",
    "for n in numeric_list:\n",
    " print(n)"
   ]
  },
  {
   "cell_type": "code",
   "execution_count": 2,
   "id": "8b833f64",
   "metadata": {},
   "outputs": [
    {
     "name": "stdout",
     "output_type": "stream",
     "text": [
      "98\n"
     ]
    }
   ],
   "source": [
    "print(max(numeric_list))"
   ]
  },
  {
   "cell_type": "code",
   "execution_count": null,
   "id": "df50ff94",
   "metadata": {},
   "outputs": [],
   "source": []
  }
 ],
 "metadata": {
  "kernelspec": {
   "display_name": "Python 3",
   "language": "python",
   "name": "python3"
  },
  "language_info": {
   "codemirror_mode": {
    "name": "ipython",
    "version": 3
   },
   "file_extension": ".py",
   "mimetype": "text/x-python",
   "name": "python",
   "nbconvert_exporter": "python",
   "pygments_lexer": "ipython3",
   "version": "3.8.8"
  }
 },
 "nbformat": 4,
 "nbformat_minor": 5
}
