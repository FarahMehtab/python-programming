{
 "cells": [
  {
   "cell_type": "code",
   "execution_count": 2,
   "id": "69b54d20",
   "metadata": {},
   "outputs": [
    {
     "name": "stdout",
     "output_type": "stream",
     "text": [
      "English Marks: 54\n",
      "Maths Marks: 65\n",
      "Computer Marks: 74\n",
      "Physics Marks: 98\n",
      "Chemistry Marks: 62\n",
      "\n",
      "Total Marks =353.00  \n",
      "Average Marks = 70.60\n",
      "Marks Percentage = 70.60\n"
     ]
    }
   ],
   "source": [
    "'''MARKSHEET'''\n",
    "\n",
    "english = float(input(\"English Marks: \"))\n",
    "maths = float(input(\"Maths Marks: \"))\n",
    "computer = float(input(\"Computer Marks: \"))\n",
    "physics = float(input(\"Physics Marks: \"))\n",
    "chemistry = float(input(\"Chemistry Marks: \"))\n",
    " \n",
    "total = english + maths + computer + physics + chemistry\n",
    "average = total / 5\n",
    "percentage = (total / 500) * 100\n",
    " \n",
    "print(\"\\nTotal Marks =%.2f  \"  %total)\n",
    "print(\"Average Marks = %.2f\"  %average)\n",
    "print(\"Marks Percentage = %.2f\"  %percentage)"
   ]
  },
  {
   "cell_type": "code",
   "execution_count": null,
   "id": "9e4149b4",
   "metadata": {},
   "outputs": [],
   "source": []
  }
 ],
 "metadata": {
  "kernelspec": {
   "display_name": "Python 3",
   "language": "python",
   "name": "python3"
  },
  "language_info": {
   "codemirror_mode": {
    "name": "ipython",
    "version": 3
   },
   "file_extension": ".py",
   "mimetype": "text/x-python",
   "name": "python",
   "nbconvert_exporter": "python",
   "pygments_lexer": "ipython3",
   "version": "3.8.8"
  }
 },
 "nbformat": 4,
 "nbformat_minor": 5
}
