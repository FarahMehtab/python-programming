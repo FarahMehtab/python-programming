{
 "cells": [
  {
   "cell_type": "code",
   "execution_count": 1,
   "id": "3b0cc75f",
   "metadata": {},
   "outputs": [],
   "source": [
    "\"\"\"LENGTH OF LIST\"\"\"\n",
    "\n",
    "cats = ['sheru', 'candy', 'tinku', 'mano']"
   ]
  },
  {
   "cell_type": "code",
   "execution_count": 3,
   "id": "107fd5e0",
   "metadata": {},
   "outputs": [
    {
     "name": "stdout",
     "output_type": "stream",
     "text": [
      "the length of my list is: 4\n"
     ]
    }
   ],
   "source": [
    "print(\"the length of my list is:\",len(cats))"
   ]
  },
  {
   "cell_type": "code",
   "execution_count": null,
   "id": "50c75db1",
   "metadata": {},
   "outputs": [],
   "source": []
  }
 ],
 "metadata": {
  "kernelspec": {
   "display_name": "Python 3",
   "language": "python",
   "name": "python3"
  },
  "language_info": {
   "codemirror_mode": {
    "name": "ipython",
    "version": 3
   },
   "file_extension": ".py",
   "mimetype": "text/x-python",
   "name": "python",
   "nbconvert_exporter": "python",
   "pygments_lexer": "ipython3",
   "version": "3.8.8"
  }
 },
 "nbformat": 4,
 "nbformat_minor": 5
}
