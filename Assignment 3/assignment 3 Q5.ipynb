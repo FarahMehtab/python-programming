{
 "cells": [
  {
   "cell_type": "code",
   "execution_count": 1,
   "id": "da912485",
   "metadata": {},
   "outputs": [
    {
     "name": "stdout",
     "output_type": "stream",
     "text": [
      "input first nameFarah\n",
      "input last nameMehtab\n"
     ]
    }
   ],
   "source": [
    "'''WRITE A PROGRAM IN PYTHON THAT ACCEPTS THE USERS FIRST AND LAST NAME AND PRINT IN REVERSE ORDER WITH A SPACE BETWEEN THEM'''\n",
    "\n",
    "f_name = input(\"input first name\")\n",
    "l_name = input(\"input last name\")\n"
   ]
  },
  {
   "cell_type": "code",
   "execution_count": 2,
   "id": "ca729077",
   "metadata": {},
   "outputs": [
    {
     "name": "stdout",
     "output_type": "stream",
     "text": [
      "Mehtab Farah\n"
     ]
    }
   ],
   "source": [
    "print(l_name + \" \" + f_name)"
   ]
  },
  {
   "cell_type": "code",
   "execution_count": null,
   "id": "403172f5",
   "metadata": {},
   "outputs": [],
   "source": []
  }
 ],
 "metadata": {
  "kernelspec": {
   "display_name": "Python 3",
   "language": "python",
   "name": "python3"
  },
  "language_info": {
   "codemirror_mode": {
    "name": "ipython",
    "version": 3
   },
   "file_extension": ".py",
   "mimetype": "text/x-python",
   "name": "python",
   "nbconvert_exporter": "python",
   "pygments_lexer": "ipython3",
   "version": "3.8.8"
  }
 },
 "nbformat": 4,
 "nbformat_minor": 5
}
