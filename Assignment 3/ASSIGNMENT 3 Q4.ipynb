{
 "cells": [
  {
   "cell_type": "code",
   "execution_count": 15,
   "id": "f76fe2c6",
   "metadata": {},
   "outputs": [
    {
     "name": "stdout",
     "output_type": "stream",
     "text": [
      "What is the radius of the circle?13.5\n"
     ]
    }
   ],
   "source": [
    "'''WRITE A PROGRAM WHICH ACCEPTS THE RADIUS OF THE CIRCLE AND PRINT ITS AREA'''\n",
    "r = float(input(\"What is the radius of the circle?\"))"
   ]
  },
  {
   "cell_type": "code",
   "execution_count": 17,
   "id": "02b05d77",
   "metadata": {},
   "outputs": [
    {
     "name": "stdout",
     "output_type": "stream",
     "text": [
      "AREA of the circle is:572.265\n"
     ]
    }
   ],
   "source": [
    "\n",
    "print(\"AREA of the circle is:\" + str(3.14 * (r*r)))"
   ]
  },
  {
   "cell_type": "code",
   "execution_count": null,
   "id": "993a0ba1",
   "metadata": {},
   "outputs": [],
   "source": []
  }
 ],
 "metadata": {
  "kernelspec": {
   "display_name": "Python 3",
   "language": "python",
   "name": "python3"
  },
  "language_info": {
   "codemirror_mode": {
    "name": "ipython",
    "version": 3
   },
   "file_extension": ".py",
   "mimetype": "text/x-python",
   "name": "python",
   "nbconvert_exporter": "python",
   "pygments_lexer": "ipython3",
   "version": "3.8.8"
  }
 },
 "nbformat": 4,
 "nbformat_minor": 5
}
